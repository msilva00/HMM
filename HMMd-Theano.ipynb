{
 "cells": [
  {
   "cell_type": "code",
   "execution_count": 82,
   "metadata": {},
   "outputs": [
    {
     "name": "stdout",
     "output_type": "stream",
     "text": [
      "number of train samples: 50\n",
      "it: 0\n",
      "A: [[0.50000012 0.49999988]\n",
      " [0.50000047 0.49999953]]\n",
      "B: [[0.5266625  0.4733375 ]\n",
      " [0.52666476 0.47333524]]\n",
      "pi: [0.50041681 0.49958319]\n",
      "len(costs): 500\n"
     ]
    },
    {
     "data": {
      "image/png": "[encoded data removed]",
      "text/plain": [
       "<Figure size 432x288 with 1 Axes>"
      ]
     },
     "metadata": {},
     "output_type": "display_data"
    },
    {
     "data": {
      "text/plain": [
       "<TensorType(float64, matrix)>"
      ]
     },
     "execution_count": 82,
     "metadata": {},
     "output_type": "execute_result"
    }
   ],
   "source": [
    "# Discrete Hidden Markov Model (HMM) in Theano using gradient descent.\n",
    "from __future__ import print_function, division\n",
    "from builtins import range\n",
    "# Note: you may need to update your version of future\n",
    "# sudo pip install -U future\n",
    "\n",
    "\n",
    "import numpy as np\n",
    "import theano\n",
    "import theano.tensor as T\n",
    "import matplotlib.pyplot as plt\n",
    "import pymc as pm\n",
    "\n",
    "def random_normalized(d1, d2):\n",
    "    x = np.random.random((d1, d2))\n",
    "    return x / x.sum(axis=1, keepdims=True)\n",
    "\n",
    "\n",
    "class HMM(pm.Categorical):\n",
    "    def __init__(self, M, X, learning_rate=0.001, max_iter=10, V=None, p_cost=1.0, print_period=10):\n",
    "        self.M = M # number of hidden states\n",
    "       # train the HMM model using stochastic gradient descent\n",
    "\n",
    "        # determine V, the vocabulary size\n",
    "        # assume observables are already integers from 0..V-1\n",
    "        # X is a jagged array of observed sequences\n",
    "        if V is None:\n",
    "            V = max(max(x) for x in X) + 1\n",
    "        N = len(X)\n",
    "        print(\"number of train samples:\", N)\n",
    "\n",
    "        pi0 = np.ones(self.M) / self.M # initial state distribution\n",
    "        A0 = random_normalized(self.M, self.M) # state transition matrix\n",
    "        B0 = random_normalized(self.M, V) # output distribution\n",
    "\n",
    "        thx, cost = self.set(pi0, A0, B0)\n",
    "\n",
    "        pi_update = self.pi - learning_rate*T.grad(cost, self.pi)\n",
    "        pi_update = pi_update / pi_update.sum()\n",
    "\n",
    "        A_update = self.A - learning_rate*T.grad(cost, self.A)\n",
    "        A_update = A_update / A_update.sum(axis=1).dimshuffle(0, 'x')\n",
    "\n",
    "        B_update = self.B - learning_rate*T.grad(cost, self.B)\n",
    "        B_update = B_update / B_update.sum(axis=1).dimshuffle(0, 'x')\n",
    "\n",
    "        updates = [\n",
    "            (self.pi, pi_update),\n",
    "            (self.A, A_update),\n",
    "            (self.B, B_update),\n",
    "        ]\n",
    "\n",
    "        train_op = theano.function(\n",
    "            inputs=[thx],\n",
    "            updates=updates,\n",
    "            allow_input_downcast=True,\n",
    "        )\n",
    "\n",
    "        # self.cost_op = theano.function(\n",
    "        #     inputs=[thx],\n",
    "        #     outputs=cost,\n",
    "        #     allow_input_downcast=True,\n",
    "        # )\n",
    "\n",
    "        costs = []\n",
    "        for it in range(max_iter):\n",
    "            if it % print_period == 0:\n",
    "                print(\"it:\", it)\n",
    "            \n",
    "            for n in range(N):\n",
    "                # print \"about to get the cost\"\n",
    "                # this would of course be much faster if we didn't do this on\n",
    "                # every iteration of the loop\n",
    "                c = self.get_cost_multi(X, p_cost).sum()\n",
    "                costs.append(c)\n",
    "                train_op(X[n])\n",
    "\n",
    "        print(\"A:\", self.A.get_value())\n",
    "        print(\"B:\", self.B.get_value())\n",
    "        print(\"pi:\", self.pi.get_value())\n",
    "        print(\"len(costs):\", len(costs))\n",
    "    \n",
    "        plt.plot(costs)\n",
    "        plt.show()\n",
    "\n",
    "    def get_cost(self, x):\n",
    "        # returns log P(x | model)\n",
    "        # using the forward part of the forward-backward algorithm\n",
    "        return self.cost_op(x)\n",
    "\n",
    "    def log_likelihood(self, x):\n",
    "        return -self.cost_op(x)\n",
    "\n",
    "    def get_cost_multi(self, X, p_cost=1.0):\n",
    "        P = np.random.random(len(X))\n",
    "        return np.array([self.get_cost(x) for x, p in zip(X, P) if p < p_cost])\n",
    "\n",
    "    def set(self, pi, A, B):\n",
    "        self.pi = theano.shared(pi)\n",
    "        self.A = theano.shared(A)\n",
    "        self.B = theano.shared(B)\n",
    "\n",
    "        # define cost\n",
    "        thx = T.ivector('thx')\n",
    "        def recurrence(t, old_a, x):\n",
    "            a = old_a.dot(self.A) * self.B[:, x[t]]\n",
    "            s = a.sum()\n",
    "            return (a / s), s\n",
    "\n",
    "        [alpha, scale], _ = theano.scan(\n",
    "            fn=recurrence,\n",
    "            sequences=T.arange(1, thx.shape[0]),\n",
    "            outputs_info=[self.pi*self.B[:,thx[0]], None],\n",
    "            n_steps=thx.shape[0]-1,\n",
    "            non_sequences=thx\n",
    "        )\n",
    "\n",
    "        cost = -T.log(scale).sum()\n",
    "        self.cost_op = theano.function(\n",
    "            inputs=[thx],\n",
    "            outputs=cost,\n",
    "            allow_input_downcast=True,\n",
    "        )\n",
    "        return thx, cost\n",
    "\n",
    "\n",
    "hmm = HMM(2, X)\n"
   ]
  },
  {
   "cell_type": "code",
   "execution_count": 85,
   "metadata": {},
   "outputs": [
    {
     "data": {
      "text/plain": [
       "<TensorType(float64, matrix)>"
      ]
     },
     "execution_count": 85,
     "metadata": {},
     "output_type": "execute_result"
    }
   ],
   "source": [
    "hmm.A"
   ]
  },
  {
   "cell_type": "code",
   "execution_count": null,
   "metadata": {},
   "outputs": [],
   "source": []
  }
 ],
 "metadata": {
  "kernelspec": {
   "display_name": "Python 3",
   "language": "python",
   "name": "python3"
  },
  "language_info": {
   "codemirror_mode": {
    "name": "ipython",
    "version": 3
   },
   "file_extension": ".py",
   "mimetype": "text/x-python",
   "name": "python",
   "nbconvert_exporter": "python",
   "pygments_lexer": "ipython3",
   "version": "3.6.5"
  }
 },
 "nbformat": 4,
 "nbformat_minor": 2
}
